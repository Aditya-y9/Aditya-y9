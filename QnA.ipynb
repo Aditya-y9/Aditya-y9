{
  "nbformat": 4,
  "nbformat_minor": 0,
  "metadata": {
    "colab": {
      "provenance": [],
      "mount_file_id": "1EFFVENXuxb-pdB967JdvdK6sA0WDIpjD",
      "authorship_tag": "ABX9TyPceVKGKPXMhSTkswFKnT5V",
      "include_colab_link": true
    },
    "kernelspec": {
      "name": "python3",
      "display_name": "Python 3"
    },
    "language_info": {
      "name": "python"
    }
  },
  "cells": [
    {
      "cell_type": "markdown",
      "metadata": {
        "id": "view-in-github",
        "colab_type": "text"
      },
      "source": [
        "<a href=\"https://colab.research.google.com/github/Aditya-y9/Aditya-y9/blob/main/QnA.ipynb\" target=\"_parent\"><img src=\"https://colab.research.google.com/assets/colab-badge.svg\" alt=\"Open In Colab\"/></a>"
      ]
    },
    {
      "cell_type": "code",
      "execution_count": null,
      "metadata": {
        "id": "gKLfMeluEQoo"
      },
      "outputs": [],
      "source": [
        "!pip install transformers\n",
        "!pip install FPDF"
      ]
    },
    {
      "cell_type": "code",
      "source": [
        "!pip install PyMuPDF"
      ],
      "metadata": {
        "id": "4P4GdzMpFYFN"
      },
      "execution_count": null,
      "outputs": []
    },
    {
      "cell_type": "code",
      "source": [
        "import fitz\n",
        "def extract_text_from_pdf(pdf_path):\n",
        "    doc = fitz.open(pdf_path)\n",
        "    text = \"\"\n",
        "    for page_num in range(doc.page_count):\n",
        "        page = doc[page_num]\n",
        "        text += page.get_text()\n",
        "    return text"
      ],
      "metadata": {
        "id": "PnoiFIAjE_6I"
      },
      "execution_count": 10,
      "outputs": []
    },
    {
      "cell_type": "code",
      "source": [
        "from transformers import pipeline\n",
        "\n",
        "# Load the question-answering pipeline with the deepset/roberta-base-squad2 model\n",
        "qa_pipeline = pipeline(\"question-answering\", model=\"deepset/roberta-base-squad2\", tokenizer=\"deepset/roberta-base-squad2\")\n",
        "\n",
        "def ask_question(context, question):\n",
        "    # Use the question-answering model to get an answer\n",
        "    result = qa_pipeline(context=context, question=question, max_length=512)  # Increase max_length\n",
        "    answer = result['answer']\n",
        "\n",
        "    return answer\n",
        "\n",
        "# Example usage\n",
        "text = extract_text_from_pdf(r\"/content/transcript_output.pdf\")\n",
        "text\n",
        "question = input(\"Enter your question: \")\n",
        "\n",
        "answer = ask_question(text, question)\n",
        "print(\"Answer:\", answer)\n"
      ],
      "metadata": {
        "colab": {
          "base_uri": "https://localhost:8080/"
        },
        "id": "aAFWJ5ugF8E3",
        "outputId": "a0b7a91f-7d43-4e6b-fbba-9af8c32831e0"
      },
      "execution_count": 15,
      "outputs": [
        {
          "output_type": "stream",
          "name": "stdout",
          "text": [
            "Enter your question: when will surface get covered in volcanoes?\n",
            "Answer: 10 000 years into the future\n"
          ]
        }
      ]
    }
  ]
}